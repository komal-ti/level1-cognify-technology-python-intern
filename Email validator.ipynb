{
 "cells": [
  {
   "cell_type": "code",
   "execution_count": 4,
   "metadata": {},
   "outputs": [
    {
     "name": "stdout",
     "output_type": "stream",
     "text": [
      "komaltiwarima@gmail.com is a valid email address.\n"
     ]
    }
   ],
   "source": [
    "def validate_email(email):\n",
    "    \"\"\"\n",
    "    Validates whether a given string is a valid email address.\n",
    "\n",
    "    Args:\n",
    "        email (str): The email address to validate.\n",
    "\n",
    "    Returns:\n",
    "        bool: True if the email is valid, False otherwise.\n",
    "    \"\"\"\n",
    "    # Check if the email contains exactly one \"@\" symbol\n",
    "    if email.count(\"@\") != 1:\n",
    "        return False\n",
    "\n",
    "    # Split the email into local part and domain part\n",
    "    local_part, domain_part = email.split(\"@\")\n",
    "\n",
    "    # Ensure both parts are non-empty\n",
    "    if not local_part or not domain_part:\n",
    "        return False\n",
    "\n",
    "    # Ensure the domain contains at least one dot and isn't at the start or end\n",
    "    if \".\" not in domain_part or domain_part.startswith(\".\") or domain_part.endswith(\".\"):\n",
    "        return False\n",
    "\n",
    "    # Ensure the local part and domain part have valid characters\n",
    "    if not all(c.isalnum() or c in \"._%+-\" for c in local_part):\n",
    "        return False\n",
    "    if not all(c.isalnum() or c in \".-\" for c in domain_part):\n",
    "        return False\n",
    "\n",
    "    return True\n",
    "\n",
    "# Example usage\n",
    "test_email = \"komaltiwarima@gmail.com\"\n",
    "if validate_email(test_email):\n",
    "    print(f\"{test_email} is a valid email address.\")\n",
    "else:\n",
    "    print(f\"{test_email} is NOT a valid email address.\")\n"
   ]
  },
  {
   "cell_type": "code",
   "execution_count": null,
   "metadata": {},
   "outputs": [],
   "source": []
  }
 ],
 "metadata": {
  "kernelspec": {
   "display_name": "Python 3",
   "language": "python",
   "name": "python3"
  },
  "language_info": {
   "codemirror_mode": {
    "name": "ipython",
    "version": 3
   },
   "file_extension": ".py",
   "mimetype": "text/x-python",
   "name": "python",
   "nbconvert_exporter": "python",
   "pygments_lexer": "ipython3",
   "version": "3.12.6"
  }
 },
 "nbformat": 4,
 "nbformat_minor": 2
}
