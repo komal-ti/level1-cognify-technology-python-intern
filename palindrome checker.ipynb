{
 "cells": [
  {
   "cell_type": "code",
   "execution_count": 1,
   "metadata": {},
   "outputs": [
    {
     "name": "stdout",
     "output_type": "stream",
     "text": [
      "\"Racecar\" is a palindrome.\n"
     ]
    }
   ],
   "source": [
    "def is_palindrome(input_string):\n",
    "    \"\"\"\n",
    "    Checks whether a given string is a palindrome.\n",
    "\n",
    "    Args:\n",
    "        input_string (str): The string to check.\n",
    "\n",
    "    Returns:\n",
    "        bool: True if the string is a palindrome, False otherwise.\n",
    "    \"\"\"\n",
    "    # Remove non-alphanumeric characters and convert to lowercase\n",
    "    clean_string = ''.join(char.lower() for char in input_string if char.isalnum())\n",
    "    \n",
    "    # Check if the cleaned string reads the same forwards and backwards\n",
    "    return clean_string == clean_string[::-1]\n",
    "\n",
    "# Example usage\n",
    "test_string = \"Racecar\"\n",
    "if is_palindrome(test_string):\n",
    "    print(f'\"{test_string}\" is a palindrome.')\n",
    "else:\n",
    "    print(f'\"{test_string}\" is NOT a palindrome.')\n"
   ]
  },
  {
   "cell_type": "code",
   "execution_count": null,
   "metadata": {},
   "outputs": [],
   "source": []
  }
 ],
 "metadata": {
  "kernelspec": {
   "display_name": "Python 3",
   "language": "python",
   "name": "python3"
  },
  "language_info": {
   "codemirror_mode": {
    "name": "ipython",
    "version": 3
   },
   "file_extension": ".py",
   "mimetype": "text/x-python",
   "name": "python",
   "nbconvert_exporter": "python",
   "pygments_lexer": "ipython3",
   "version": "3.12.6"
  }
 },
 "nbformat": 4,
 "nbformat_minor": 2
}
