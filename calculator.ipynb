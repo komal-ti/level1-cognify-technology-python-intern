{
 "cells": [
  {
   "cell_type": "code",
   "execution_count": 1,
   "metadata": {},
   "outputs": [
    {
     "name": "stdout",
     "output_type": "stream",
     "text": [
      "Welcome to the Basic Calculator!\n",
      "The result of 5.0 + 6.0 is: 11.0\n"
     ]
    }
   ],
   "source": [
    "def basic_calculator():\n",
    "    \"\"\"\n",
    "    A basic calculator program that performs operations on two numbers.\n",
    "    \"\"\"\n",
    "    print(\"Welcome to the Basic Calculator!\")\n",
    "    \n",
    "    try:\n",
    "        # Get the first number from the user\n",
    "        num1 = float(input(\"Enter the first number: \"))\n",
    "        \n",
    "        # Get the operator from the user\n",
    "        operator = input(\"Enter an operator (+, -, *, /, %): \").strip()\n",
    "        \n",
    "        # Get the second number from the user\n",
    "        num2 = float(input(\"Enter the second number: \"))\n",
    "        \n",
    "        # Perform the operation based on the operator\n",
    "        if operator == '+':\n",
    "            result = num1 + num2\n",
    "        elif operator == '-':\n",
    "            result = num1 - num2\n",
    "        elif operator == '*':\n",
    "            result = num1 * num2\n",
    "        elif operator == '/':\n",
    "            if num2 != 0:\n",
    "                result = num1 / num2\n",
    "            else:\n",
    "                print(\"Error: Division by zero is not allowed.\")\n",
    "                return\n",
    "        elif operator == '%':\n",
    "            if num2 != 0:\n",
    "                result = num1 % num2\n",
    "            else:\n",
    "                print(\"Error: Division by zero is not allowed.\")\n",
    "                return\n",
    "        else:\n",
    "            print(\"Invalid operator. Please use one of +, -, *, /, or %.\")\n",
    "            return\n",
    "        \n",
    "        # Display the result\n",
    "        print(f\"The result of {num1} {operator} {num2} is: {result}\")\n",
    "    \n",
    "    except ValueError:\n",
    "        print(\"Invalid input. Please enter numeric values.\")\n",
    "\n",
    "# Run the calculator\n",
    "if __name__ == \"__main__\":\n",
    "    basic_calculator()\n"
   ]
  },
  {
   "cell_type": "code",
   "execution_count": null,
   "metadata": {},
   "outputs": [],
   "source": []
  }
 ],
 "metadata": {
  "kernelspec": {
   "display_name": "Python 3",
   "language": "python",
   "name": "python3"
  },
  "language_info": {
   "codemirror_mode": {
    "name": "ipython",
    "version": 3
   },
   "file_extension": ".py",
   "mimetype": "text/x-python",
   "name": "python",
   "nbconvert_exporter": "python",
   "pygments_lexer": "ipython3",
   "version": "3.12.6"
  }
 },
 "nbformat": 4,
 "nbformat_minor": 2
}
