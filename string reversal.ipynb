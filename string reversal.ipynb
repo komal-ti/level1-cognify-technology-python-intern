{
 "cells": [
  {
   "cell_type": "code",
   "execution_count": 2,
   "metadata": {},
   "outputs": [
    {
     "name": "stdout",
     "output_type": "stream",
     "text": [
      "Original: hello\n",
      "Reversed: olleh\n"
     ]
    }
   ],
   "source": [
    "def reverse_string(input_string):\n",
    "    \"\"\"\n",
    "    Reverses the given string.\n",
    "\n",
    "    Args:\n",
    "        input_string (str): The string to reverse.\n",
    "\n",
    "    Returns:\n",
    "        str: The reversed string.\n",
    "    \"\"\"\n",
    "    return input_string[::-1]\n",
    "\n",
    "# Example usage\n",
    "example = \"hello\"\n",
    "reversed_example = reverse_string(example)\n",
    "print(\"Original:\", example)\n",
    "print(\"Reversed:\", reversed_example)\n"
   ]
  },
  {
   "cell_type": "code",
   "execution_count": null,
   "metadata": {},
   "outputs": [],
   "source": []
  }
 ],
 "metadata": {
  "kernelspec": {
   "display_name": "Python 3",
   "language": "python",
   "name": "python3"
  },
  "language_info": {
   "codemirror_mode": {
    "name": "ipython",
    "version": 3
   },
   "file_extension": ".py",
   "mimetype": "text/x-python",
   "name": "python",
   "nbconvert_exporter": "python",
   "pygments_lexer": "ipython3",
   "version": "3.12.6"
  }
 },
 "nbformat": 4,
 "nbformat_minor": 2
}
