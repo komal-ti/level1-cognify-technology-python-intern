{
 "cells": [
  {
   "cell_type": "code",
   "execution_count": 1,
   "metadata": {},
   "outputs": [
    {
     "name": "stdout",
     "output_type": "stream",
     "text": [
      "Temperature Converter\n",
      "60.0°C is equal to 140.00°F.\n"
     ]
    }
   ],
   "source": [
    "def convert_temperature(value, unit):\n",
    "    \"\"\"\n",
    "    Converts temperature between Celsius and Fahrenheit.\n",
    "\n",
    "    Args:\n",
    "        value (float): The temperature value to convert.\n",
    "        unit (str): The unit of the temperature ('C' for Celsius, 'F' for Fahrenheit).\n",
    "\n",
    "    Returns:\n",
    "        float: The converted temperature value.\n",
    "    \"\"\"\n",
    "    if unit.upper() == 'C':\n",
    "        return (value * 9/5) + 32  # Convert Celsius to Fahrenheit\n",
    "    elif unit.upper() == 'F':\n",
    "        return (value - 32) * 5/9  # Convert Fahrenheit to Celsius\n",
    "    else:\n",
    "        raise ValueError(\"Invalid unit. Please enter 'C' for Celsius or 'F' for Fahrenheit.\")\n",
    "\n",
    "def main():\n",
    "    print(\"Temperature Converter\")\n",
    "    try:\n",
    "        # Get temperature value from the user\n",
    "        temp_value = float(input(\"Enter the temperature value: \"))\n",
    "        \n",
    "        # Get the unit of the input temperature\n",
    "        temp_unit = input(\"Enter the unit of measurement (C for Celsius, F for Fahrenheit): \").strip()\n",
    "        \n",
    "        # Perform the conversion\n",
    "        if temp_unit.upper() == 'C':\n",
    "            converted = convert_temperature(temp_value, 'C')\n",
    "            print(f\"{temp_value}°C is equal to {converted:.2f}°F.\")\n",
    "        elif temp_unit.upper() == 'F':\n",
    "            converted = convert_temperature(temp_value, 'F')\n",
    "            print(f\"{temp_value}°F is equal to {converted:.2f}°C.\")\n",
    "        else:\n",
    "            print(\"Invalid unit. Please enter 'C' for Celsius or 'F' for Fahrenheit.\")\n",
    "    except ValueError as e:\n",
    "        print(\"Error:\", e)\n",
    "\n",
    "# Run the program\n",
    "if __name__ == \"__main__\":\n",
    "    main()\n"
   ]
  },
  {
   "cell_type": "code",
   "execution_count": null,
   "metadata": {},
   "outputs": [],
   "source": []
  }
 ],
 "metadata": {
  "kernelspec": {
   "display_name": "Python 3",
   "language": "python",
   "name": "python3"
  },
  "language_info": {
   "codemirror_mode": {
    "name": "ipython",
    "version": 3
   },
   "file_extension": ".py",
   "mimetype": "text/x-python",
   "name": "python",
   "nbconvert_exporter": "python",
   "pygments_lexer": "ipython3",
   "version": "3.12.6"
  }
 },
 "nbformat": 4,
 "nbformat_minor": 2
}
